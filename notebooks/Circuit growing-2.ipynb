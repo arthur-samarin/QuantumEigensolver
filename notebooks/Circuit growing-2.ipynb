{
 "cells": [
  {
   "cell_type": "code",
   "execution_count": 2,
   "metadata": {},
   "outputs": [
    {
     "ename": "ImportError",
     "evalue": "libboost_python3.so.1.66.0: cannot open shared object file: No such file or directory",
     "output_type": "error",
     "traceback": [
      "\u001b[0;31m---------------------------------------------------------------------------\u001b[0m",
      "\u001b[0;31mImportError\u001b[0m                               Traceback (most recent call last)",
      "\u001b[0;32m<ipython-input-2-c5b5256dc615>\u001b[0m in \u001b[0;36m<module>\u001b[0;34m\u001b[0m\n\u001b[1;32m     10\u001b[0m \u001b[0;32mfrom\u001b[0m \u001b[0malgo\u001b[0m\u001b[0;34m.\u001b[0m\u001b[0mvqe\u001b[0m \u001b[0;32mimport\u001b[0m \u001b[0mPyVqe\u001b[0m\u001b[0;34m\u001b[0m\u001b[0;34m\u001b[0m\u001b[0m\n\u001b[1;32m     11\u001b[0m \u001b[0;32mfrom\u001b[0m \u001b[0mmutations\u001b[0m \u001b[0;32mimport\u001b[0m \u001b[0mWeighted\u001b[0m\u001b[0;34m,\u001b[0m \u001b[0mInsert\u001b[0m\u001b[0;34m,\u001b[0m \u001b[0mRemove\u001b[0m\u001b[0;34m,\u001b[0m \u001b[0madd_two_block_layers\u001b[0m\u001b[0;34m\u001b[0m\u001b[0;34m\u001b[0m\u001b[0m\n\u001b[0;32m---> 12\u001b[0;31m \u001b[0;32mfrom\u001b[0m \u001b[0malgo\u001b[0m\u001b[0;34m.\u001b[0m\u001b[0mcvqe_wrapper\u001b[0m \u001b[0;32mimport\u001b[0m \u001b[0mCVqe\u001b[0m\u001b[0;34m\u001b[0m\u001b[0;34m\u001b[0m\u001b[0m\n\u001b[0m",
      "\u001b[0;32m~/qe/src/algo/cvqe_wrapper.py\u001b[0m in \u001b[0;36m<module>\u001b[0;34m\u001b[0m\n\u001b[1;32m      8\u001b[0m \u001b[0mcvqe_path\u001b[0m \u001b[0;34m=\u001b[0m \u001b[0mos\u001b[0m\u001b[0;34m.\u001b[0m\u001b[0mpath\u001b[0m\u001b[0;34m.\u001b[0m\u001b[0mabspath\u001b[0m\u001b[0;34m(\u001b[0m\u001b[0;34m'cvqe/build'\u001b[0m\u001b[0;34m)\u001b[0m\u001b[0;34m\u001b[0m\u001b[0;34m\u001b[0m\u001b[0m\n\u001b[1;32m      9\u001b[0m \u001b[0msys\u001b[0m\u001b[0;34m.\u001b[0m\u001b[0mpath\u001b[0m\u001b[0;34m.\u001b[0m\u001b[0mappend\u001b[0m\u001b[0;34m(\u001b[0m\u001b[0mcvqe_path\u001b[0m\u001b[0;34m)\u001b[0m\u001b[0;34m\u001b[0m\u001b[0;34m\u001b[0m\u001b[0m\n\u001b[0;32m---> 10\u001b[0;31m \u001b[0;32mimport\u001b[0m \u001b[0mcvqe\u001b[0m\u001b[0;34m\u001b[0m\u001b[0;34m\u001b[0m\u001b[0m\n\u001b[0m\u001b[1;32m     11\u001b[0m \u001b[0;34m\u001b[0m\u001b[0m\n\u001b[1;32m     12\u001b[0m \u001b[0;34m\u001b[0m\u001b[0m\n",
      "\u001b[0;31mImportError\u001b[0m: libboost_python3.so.1.66.0: cannot open shared object file: No such file or directory"
     ]
    }
   ],
   "source": [
    "import setup\n",
    "import qiskit\n",
    "import matplotlib\n",
    "import matplotlib.pyplot as plt\n",
    "from circuit import QCircuit\n",
    "from algo.func_optimizer import BfgsOptimizer, CmaesOptimizer\n",
    "from algo.one_plus_lambda import OnePlusLambda, EvolutionReport, IterationReport\n",
    "from iohelper import hamiltonians, results as rio\n",
    "from circuit import QCircuit, GateTypes, QCircuitConversions\n",
    "from algo.vqe import PyVqe\n",
    "from mutations import Weighted, Insert, Remove, add_two_block_layers\n",
    "from algo.cvqe_wrapper import CVqe"
   ]
  },
  {
   "cell_type": "code",
   "execution_count": null,
   "metadata": {
    "scrolled": false
   },
   "outputs": [],
   "source": [
    "def run(task, block_type, max_cmaes_iter=None, verbose=True):\n",
    "    # Show information about task\n",
    "    if verbose:\n",
    "        print('Minimal eigenvalue is  {}'.format(task.min_eigenvalue))\n",
    "        print('Initial state is {}'.format(task.classical_psi0_bitstring))\n",
    "\n",
    "    # Initialize circuit \n",
    "    circuit = QCircuit(task.N, task.classical_psi0, [])\n",
    "    add_two_block_layers(circuit, block_type)\n",
    "\n",
    "\n",
    "    def on_iteration_end(report: IterationReport):\n",
    "        if verbose:\n",
    "            num_evaluations = sum(m.num_circ_evaluations for m in report.mutations)\n",
    "            print('Iteration #{} is finished, {} circuit evaluations performed'.format(report.index, num_evaluations))\n",
    "            print('  Values: {}!'.format(', '.join(str(m.value) for m in report.mutations)))\n",
    "            if report.better:\n",
    "                best_mutation = report.mutations[0]\n",
    "                print('  New value: {}!'.format(best_mutation.value))\n",
    "                circ = best_mutation.circ\n",
    "                display(QCircuitConversions.to_qiskit_circuit(circ).draw(output='mpl'))\n",
    "\n",
    "\n",
    "    # Run evolutional algorithm\n",
    "    ev = OnePlusLambda(\n",
    "        target=task.min_eigenvalue,\n",
    "        vqe=CVqe(task.H, 1e-5),\n",
    "        mutation=Weighted([\n",
    "            (Insert(block_type), 2),\n",
    "            (Remove(), 1)\n",
    "        ]),\n",
    "        initial=circuit,\n",
    "        target_eps=1.6e-3,\n",
    "        alambda=128\n",
    "    )\n",
    "    report: EvolutionReport = ev.run(iteration_end_callback=on_iteration_end)\n",
    "\n",
    "    # Show results\n",
    "    if report.interrupted:\n",
    "        print('INTERRUPTED')\n",
    "\n",
    "    print('Number of CNOTs: ' + str(report.best_circuit.size))\n",
    "    print('Best value is: ' + str(report.best_circuit_value))\n",
    "    print('Number of iterations is: ' + str(len(report.iterations) - 1))\n",
    "    if verbose:\n",
    "        display(QCircuitConversions.to_qiskit_circuit(report.best_circuit).draw(output='mpl'))\n",
    "    return report\n",
    "\n",
    "task = hamiltonians.q8\n",
    "reports = [run(task, GateTypes.block_a, verbose=True) for i in range(0, 1)]"
   ]
  },
  {
   "cell_type": "code",
   "execution_count": 7,
   "metadata": {},
   "outputs": [],
   "source": [
    "rio.store('collections', 'LiH-6', reports)"
   ]
  },
  {
   "cell_type": "code",
   "execution_count": 2,
   "metadata": {},
   "outputs": [
    {
     "name": "stdout",
     "output_type": "stream",
     "text": [
      "[-3.14159239e+00 -2.84144427e+00 -3.14159171e+00  3.28328896e-01\n",
      "  3.14159161e+00 -2.83112019e-01 -3.14158870e+00  3.71486307e-01\n",
      " -3.13375862e+00 -3.14159265e+00 -3.46660561e-07  1.43243319e+00]\n",
      "-3.141592653589746 - 3.141591605444185\n",
      "-0.8746828757722297\n",
      "-0.8746828757722289\n"
     ]
    }
   ],
   "source": [
    "from qutip import expect\n",
    "\n",
    "task = hamiltonians.q4\n",
    "circuit = QCircuit(task.N, task.classical_psi0, [])\n",
    "add_two_block_layers(circuit, GateTypes.block_a)\n",
    "v = CVqe(task.H, 1e-14)\n",
    "opt = v.optimize(circuit)\n",
    "c = opt.circ\n",
    "print(c.get_parameters())\n",
    "print('{} - {}'.format(min(c.get_parameters()), max(c.get_parameters())))\n",
    "w = QCircuitConversions.to_qobj_wavefunction(c)\n",
    "print(expect(task.H, w))\n",
    "print(opt.opt_value)"
   ]
  },
  {
   "cell_type": "code",
   "execution_count": null,
   "metadata": {},
   "outputs": [],
   "source": []
  }
 ],
 "metadata": {
  "kernelspec": {
   "display_name": "Python 3",
   "language": "python",
   "name": "python3"
  },
  "language_info": {
   "codemirror_mode": {
    "name": "ipython",
    "version": 3
   },
   "file_extension": ".py",
   "mimetype": "text/x-python",
   "name": "python",
   "nbconvert_exporter": "python",
   "pygments_lexer": "ipython3",
   "version": "3.7.3"
  }
 },
 "nbformat": 4,
 "nbformat_minor": 2
}
